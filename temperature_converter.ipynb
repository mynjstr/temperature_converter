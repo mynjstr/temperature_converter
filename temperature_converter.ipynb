{
 "cells": [
  {
   "cell_type": "markdown",
   "id": "3f97bae3-e2fb-4ed1-936e-f4607838f7d4",
   "metadata": {},
   "source": [
    "# TEMPERATURE CONVERTER "
   ]
  },
  {
   "cell_type": "markdown",
   "id": "1f3beeac-6da5-4997-83d1-6bd3918fc682",
   "metadata": {},
   "source": [
    "### Exercise 1"
   ]
  },
  {
   "cell_type": "markdown",
   "id": "b3236ad5-2d44-4924-ab2c-f9fe233a61d0",
   "metadata": {},
   "source": [
    "#### This program converts temperatures between Celsius and Fahrenheit."
   ]
  },
  {
   "cell_type": "code",
   "execution_count": null,
   "id": "ad07aae8-0850-4920-ab27-925367e20f08",
   "metadata": {},
   "outputs": [],
   "source": [
    "while True:\n",
    "    try:\n",
    "        temp_input = int(input(\"Enter a temperature: \"))\n",
    "        break\n",
    "    except ValueError:\n",
    "        print(\"Temperature must be an integer!\")\n",
    "\n",
    "while True:\n",
    "    conversion_type = str(input(\"Convert to Fahrenheit (F) or Convert to Celsius (C): \"))\n",
    "\n",
    "    if conversion_type == \"F\" or \"f\":\n",
    "        celsius_to_fahrenheit = (temp_input * (9 / 5)) + 32\n",
    "        print(f\"The Temperature in Fahrenheit is {celsius_to_fahrenheit:.2f}°F\")\n",
    "        break\n",
    "    elif conversion_type == \"C\" or \"c\":\n",
    "        fahrenheit_to_celsius = (temp_input - 32) * (5 / 9)\n",
    "        print(f\"The Temperature in Celsius is {fahrenheit_to_celsius:.2f}°C\")\n",
    "        break\n",
    "    else:\n",
    "        print(\"You did not put a conversion type!\")\n",
    "          \n",
    "    "
   ]
  }
 ],
 "metadata": {
  "kernelspec": {
   "display_name": "Python 3 (ipykernel)",
   "language": "python",
   "name": "python3"
  },
  "language_info": {
   "codemirror_mode": {
    "name": "ipython",
    "version": 3
   },
   "file_extension": ".py",
   "mimetype": "text/x-python",
   "name": "python",
   "nbconvert_exporter": "python",
   "pygments_lexer": "ipython3",
   "version": "3.12.1"
  }
 },
 "nbformat": 4,
 "nbformat_minor": 5
}
